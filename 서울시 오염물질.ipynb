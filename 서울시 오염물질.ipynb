{
 "cells": [
  {
   "cell_type": "code",
   "execution_count": 8,
   "id": "2eac4dec",
   "metadata": {},
   "outputs": [],
   "source": [
    "import pandas as pd\n",
    "import numpy as np\n",
    "import folium\n",
    "import json"
   ]
  },
  {
   "cell_type": "code",
   "execution_count": 9,
   "id": "eefcc1c9",
   "metadata": {},
   "outputs": [],
   "source": [
    "meese = pd.read_csv('미세먼지.csv', encoding='euc-kr')\n",
    "oxy = pd.read_csv('오존.csv', encoding='euc-kr')\n",
    "so2 = pd.read_csv('아황산가스.csv', encoding='euc-kr')\n",
    "co = pd.read_csv('일산화탄소.csv', encoding='euc-kr')\n",
    "no2 = pd.read_csv('이산화질소.csv', encoding='euc-kr')"
   ]
  },
  {
   "cell_type": "code",
   "execution_count": 10,
   "id": "af8619e7",
   "metadata": {},
   "outputs": [],
   "source": [
    "map_1 = folium.Map(location=[37.56, 126.97], zoom_start=10.5)\n",
    "map_2 = folium.Map(location=[37.56, 126.97], zoom_start=10.5)\n",
    "map_3 = folium.Map(location=[37.56, 126.97], zoom_start=10.5)\n",
    "map_4 = folium.Map(location=[37.56, 126.97], zoom_start=10.5)\n",
    "map_5 = folium.Map(location=[37.56, 126.97], zoom_start=10.5)"
   ]
  },
  {
   "cell_type": "code",
   "execution_count": 21,
   "id": "c72b7361",
   "metadata": {},
   "outputs": [],
   "source": [
    "for i in range(len(meese)):\n",
    "    latitude=meese['위도'][i]\n",
    "    longitude=meese['경도'][i]\n",
    "    for j in range(1,31):\n",
    "        sum = 0\n",
    "        point=meese[f'{j}일'][i]\n",
    "        sum += point\n",
    "    point = sum / 31\n",
    "    name = str(meese['구분'][i])\n",
    "    if 0 <= point <= 30:\n",
    "        marker=folium.Circle([longitude,latitude], color='aqua', radius=2000, fill_color='aqua', popup=name).add_to(map_1)\n",
    "    elif 30 < point <= 80:\n",
    "        marker=folium.Circle([longitude,latitude], color='lime', radius=2000, fill_color='lime', popup=name).add_to(map_1)\n",
    "    elif 80 < point <= 150:\n",
    "        marker=folium.Circle([longitude,latitude], color='orange', radius=2000, fill_color='orange', popup=name).add_to(map_1)\n",
    "    else:\n",
    "        marker=folium.Circle([longitude,latitude], color='tomato', radius=2000, fill_color='tomato', popup=name).add_to(map_1)\n",
    "\n",
    "map_1\n",
    "map_1.save('미세먼지농도.html')"
   ]
  },
  {
   "cell_type": "code",
   "execution_count": 22,
   "id": "c33d5330",
   "metadata": {},
   "outputs": [],
   "source": [
    "for i in range(len(oxy)):\n",
    "    latitude=oxy['위도'][i]\n",
    "    longitude=oxy['경도'][i]\n",
    "    for j in range(1,31):\n",
    "        sum = 0\n",
    "        point=oxy[f'{j}일'][i]\n",
    "        sum += point\n",
    "    point = sum / 31\n",
    "    name = str(oxy['구분'][i])\n",
    "    if 0 <= point <= 0.03:\n",
    "        marker=folium.Circle([longitude,latitude], color='aqua', radius=2000, fill_color='aqua', popup=name).add_to(map_2)\n",
    "    elif 0.03 < point <= 0.09:\n",
    "        marker=folium.Circle([longitude,latitude], color='lime', radius=2000, fill_color='lime', popup=name).add_to(map_2)\n",
    "    elif 0.09 < point <= 0.15:\n",
    "        marker=folium.Circle([longitude,latitude], color='orange', radius=2000, fill_color='orange', popup=name).add_to(map_2)\n",
    "    else:\n",
    "        marker=folium.Circle([longitude,latitude], color='tomato', radius=2000, fill_color='tomato', popup=name).add_to(map_2)\n",
    "\n",
    "map_2\n",
    "map_2.save('오존농도.html')"
   ]
  },
  {
   "cell_type": "code",
   "execution_count": 23,
   "id": "b067f72c",
   "metadata": {},
   "outputs": [],
   "source": [
    "for i in range(len(so2)):\n",
    "    latitude=so2['위도'][i]\n",
    "    longitude=so2['경도'][i]\n",
    "    for j in range(1,31):\n",
    "        sum = 0\n",
    "        point=so2[f'{j}일'][i]\n",
    "        sum += point\n",
    "    point = sum / 31\n",
    "    name = str(so2['구분'][i])\n",
    "    if 0 <= point <= 0.02:\n",
    "        marker=folium.Circle([longitude,latitude], color='aqua', radius=2000, fill_color='aqua', popup=name).add_to(map_3)\n",
    "    elif 0.02 < point <= 0.05:\n",
    "        marker=folium.Circle([longitude,latitude], color='lime', radius=2000, fill_color='lime', popup=name).add_to(map_3)\n",
    "    elif 0.05 < point <= 0.15:\n",
    "        marker=folium.Circle([longitude,latitude], color='orange', radius=2000, fill_color='orange', popup=name).add_to(map_3)\n",
    "    else:\n",
    "        marker=folium.Circle([longitude,latitude], color='tomato', radius=2000, fill_color='tomato', popup=name).add_to(map_3)\n",
    "\n",
    "map_3\n",
    "map_3.save('아황산가스농도.html')"
   ]
  },
  {
   "cell_type": "code",
   "execution_count": 24,
   "id": "b1a2e2fe",
   "metadata": {},
   "outputs": [],
   "source": [
    "for i in range(len(co)):\n",
    "    latitude=co['위도'][i]\n",
    "    longitude=co['경도'][i]\n",
    "    for j in range(1,31):\n",
    "        sum = 0\n",
    "        point=co[f'{j}일'][i]\n",
    "        sum += point\n",
    "    point = sum / 31\n",
    "    name = str(co['구분'][i])\n",
    "    if 0 <= point <= 9:\n",
    "        marker=folium.Circle([longitude,latitude], color='aqua', radius=2000, fill_color='aqua', popup=name).add_to(map_4)\n",
    "    elif 9 < point <= 25:\n",
    "        marker=folium.Circle([longitude,latitude], color='lime', radius=2000, fill_color='lime', popup=name).add_to(map_4)\n",
    "    else:\n",
    "        marker=folium.Circle([longitude,latitude], color='tomato', radius=2000, fill_color='tomato', popup=name).add_to(map_4)\n",
    "\n",
    "map_4\n",
    "map_4.save('일산화탄소농도.html')"
   ]
  },
  {
   "cell_type": "code",
   "execution_count": 25,
   "id": "e8c35153",
   "metadata": {},
   "outputs": [],
   "source": [
    "for i in range(len(no2)):\n",
    "    latitude=no2['위도'][i]\n",
    "    longitude=no2['경도'][i]\n",
    "    for j in range(1,31):\n",
    "        sum = 0\n",
    "        point=no2[f'{j}일'][i]\n",
    "        sum += point\n",
    "    point = sum / 31\n",
    "    name = str(no2['구분'][i])\n",
    "    if 0 <= point <= 0.03:\n",
    "        marker=folium.Circle([longitude,latitude], color='aqua', radius=2000, fill_color='aqua', popup=name).add_to(map_5)\n",
    "    elif 0.03 < point <= 0.06:\n",
    "        marker=folium.Circle([longitude,latitude], color='lime', radius=2000, fill_color='lime', popup=name).add_to(map_5)\n",
    "    elif 0.06 < point <= 0.1:\n",
    "        marker=folium.Circle([longitude,latitude], color='orange', radius=2000, fill_color='orange', popup=name).add_to(map_5)\n",
    "    else:\n",
    "        marker=folium.Circle([longitude,latitude], color='tomato', radius=2000, fill_color='tomato', popup=name).add_to(map_5)\n",
    "\n",
    "map_5\n",
    "map_5.save('이산화질소농도.html')"
   ]
  },
  {
   "cell_type": "code",
   "execution_count": null,
   "id": "bc9d3882",
   "metadata": {},
   "outputs": [],
   "source": []
  }
 ],
 "metadata": {
  "kernelspec": {
   "display_name": "Python 3 (ipykernel)",
   "language": "python",
   "name": "python3"
  },
  "language_info": {
   "codemirror_mode": {
    "name": "ipython",
    "version": 3
   },
   "file_extension": ".py",
   "mimetype": "text/x-python",
   "name": "python",
   "nbconvert_exporter": "python",
   "pygments_lexer": "ipython3",
   "version": "3.9.13"
  }
 },
 "nbformat": 4,
 "nbformat_minor": 5
}
